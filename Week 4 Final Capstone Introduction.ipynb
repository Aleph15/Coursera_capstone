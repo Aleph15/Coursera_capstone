{
 "cells": [
  {
   "cell_type": "markdown",
   "metadata": {},
   "source": [
    "# Applied Data Science Capstone  - Icecream Store -"
   ]
  },
  {
   "cell_type": "markdown",
   "metadata": {},
   "source": []
  },
  {
   "cell_type": "markdown",
   "metadata": {},
   "source": [
    "## Introduction\n",
    "\n",
    "\n",
    "#### Currently I'm looking forward to start an Icecream business in order to increase my income sources, so I decided to use this capstone to analise the best options in order to deliver this new idea and take de decision on a Data Science Report. \n",
    "#### The goal is to understand the different neighborhoods in Mexico City according to people preferences and decide an option to start this new adventure.\n",
    "\n",
    "## Data used\n",
    "\n",
    "#### The data that I wil use is a list of the neighborhoods in Mexico City from Wikipedia, a list of the coordinates of each neighborhood, and a request from Foursquare to obtain the diferent kind of venues that are in the city an it's neighborhoods creating 10 clusters trough a Kmeans algorithm. The way I pretend to obtain the coordinates is trough a loop function with geocoder because there is no dataset available with this info. Finally I'll create a map to visualize the clustering and to decide the best option for the icecream store. "
   ]
  },
  {
   "cell_type": "markdown",
   "metadata": {},
   "source": []
  },
  {
   "cell_type": "code",
   "execution_count": null,
   "metadata": {},
   "outputs": [],
   "source": []
  }
 ],
 "metadata": {
  "kernelspec": {
   "display_name": "Python 3",
   "language": "python",
   "name": "python3"
  },
  "language_info": {
   "codemirror_mode": {
    "name": "ipython",
    "version": 3
   },
   "file_extension": ".py",
   "mimetype": "text/x-python",
   "name": "python",
   "nbconvert_exporter": "python",
   "pygments_lexer": "ipython3",
   "version": "3.6.7"
  }
 },
 "nbformat": 4,
 "nbformat_minor": 4
}
